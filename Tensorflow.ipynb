{
  "nbformat": 4,
  "nbformat_minor": 0,
  "metadata": {
    "colab": {
      "provenance": []
    },
    "kernelspec": {
      "name": "python3",
      "display_name": "Python 3"
    },
    "language_info": {
      "name": "python"
    }
  },
  "cells": [
    {
      "cell_type": "markdown",
      "source": [
        "# In this notebook we go through the basics of  the tensorflow"
      ],
      "metadata": {
        "id": "5QlhSOB316yd"
      }
    },
    {
      "cell_type": "code",
      "source": [
        "import tensorflow as tf\n",
        "tf.__version__"
      ],
      "metadata": {
        "colab": {
          "base_uri": "https://localhost:8080/",
          "height": 36
        },
        "id": "_CA4okyq2DsQ",
        "outputId": "dc83fa64-c46a-4604-c3da-1712e816d5b6"
      },
      "execution_count": null,
      "outputs": [
        {
          "output_type": "execute_result",
          "data": {
            "text/plain": [
              "'2.15.0'"
            ],
            "application/vnd.google.colaboratory.intrinsic+json": {
              "type": "string"
            }
          },
          "metadata": {},
          "execution_count": 9
        }
      ]
    },
    {
      "cell_type": "code",
      "source": [
        "vector = tf.constant([1,2])"
      ],
      "metadata": {
        "id": "sSUDgb5l2N_f"
      },
      "execution_count": null,
      "outputs": []
    },
    {
      "cell_type": "code",
      "source": [
        "vector.ndim"
      ],
      "metadata": {
        "colab": {
          "base_uri": "https://localhost:8080/"
        },
        "id": "mQTSEBVX2TML",
        "outputId": "f56300f3-0c6a-461f-9b0d-4f8f4f808840"
      },
      "execution_count": null,
      "outputs": [
        {
          "output_type": "execute_result",
          "data": {
            "text/plain": [
              "1"
            ]
          },
          "metadata": {},
          "execution_count": 4
        }
      ]
    },
    {
      "cell_type": "code",
      "source": [
        "import numpy as np\n",
        "\n",
        "random_array = np.random.random([4,6])\n",
        "\n",
        "matrix = tf.constant(random_array)"
      ],
      "metadata": {
        "id": "qkDgKwL62UN4"
      },
      "execution_count": null,
      "outputs": []
    },
    {
      "cell_type": "code",
      "source": [
        "matrix.ndim"
      ],
      "metadata": {
        "colab": {
          "base_uri": "https://localhost:8080/"
        },
        "id": "KORkVjCU2gjI",
        "outputId": "c5d855b3-03f3-4f61-cc8a-fc668a1db47f"
      },
      "execution_count": null,
      "outputs": [
        {
          "output_type": "execute_result",
          "data": {
            "text/plain": [
              "2"
            ]
          },
          "metadata": {},
          "execution_count": 6
        }
      ]
    },
    {
      "cell_type": "code",
      "source": [
        "unchangable = tf.constant(np.random.random([4,6,6,9]))"
      ],
      "metadata": {
        "id": "puwrSpEA2rnu"
      },
      "execution_count": null,
      "outputs": []
    },
    {
      "cell_type": "code",
      "source": [
        "unchanagable.ndim"
      ],
      "metadata": {
        "colab": {
          "base_uri": "https://localhost:8080/",
          "height": 141
        },
        "id": "kJYivqdM20eg",
        "outputId": "008e2450-a3fd-4d65-e05d-cc42cb4fb607"
      },
      "execution_count": null,
      "outputs": [
        {
          "output_type": "error",
          "ename": "NameError",
          "evalue": "name 'unchanagable' is not defined",
          "traceback": [
            "\u001b[0;31m---------------------------------------------------------------------------\u001b[0m",
            "\u001b[0;31mNameError\u001b[0m                                 Traceback (most recent call last)",
            "\u001b[0;32m<ipython-input-10-1a0a353bbcd9>\u001b[0m in \u001b[0;36m<cell line: 1>\u001b[0;34m()\u001b[0m\n\u001b[0;32m----> 1\u001b[0;31m \u001b[0munchanagable\u001b[0m\u001b[0;34m.\u001b[0m\u001b[0mndim\u001b[0m\u001b[0;34m\u001b[0m\u001b[0;34m\u001b[0m\u001b[0m\n\u001b[0m",
            "\u001b[0;31mNameError\u001b[0m: name 'unchanagable' is not defined"
          ]
        }
      ]
    },
    {
      "cell_type": "code",
      "source": [
        "# the above are tf.constant so these cant be changed but there is another type which can be in changable form"
      ],
      "metadata": {
        "id": "TqXMjfP822H2"
      },
      "execution_count": null,
      "outputs": []
    },
    {
      "cell_type": "code",
      "source": [
        "changable = tf.Variable(np.random.random([4,6]))"
      ],
      "metadata": {
        "id": "-s2Plxjn3GW-"
      },
      "execution_count": null,
      "outputs": []
    },
    {
      "cell_type": "code",
      "source": [
        "changable[0].assign(5)"
      ],
      "metadata": {
        "colab": {
          "base_uri": "https://localhost:8080/"
        },
        "id": "1G6D_ofG3LpW",
        "outputId": "e2e4f560-4076-468d-bdf5-c791736db111"
      },
      "execution_count": null,
      "outputs": [
        {
          "output_type": "execute_result",
          "data": {
            "text/plain": [
              "<tf.Variable 'UnreadVariable' shape=(4, 6) dtype=float64, numpy=\n",
              "array([[5.00000000e+00, 5.00000000e+00, 5.00000000e+00, 5.00000000e+00,\n",
              "        5.00000000e+00, 5.00000000e+00],\n",
              "       [5.61405906e-01, 4.31527422e-01, 8.82486837e-01, 8.08142110e-01,\n",
              "        3.77849262e-01, 3.62697295e-01],\n",
              "       [4.73640163e-01, 9.08493124e-01, 8.92635174e-01, 4.76921353e-01,\n",
              "        6.68445968e-01, 2.18804468e-01],\n",
              "       [1.67218452e-03, 6.45935582e-01, 6.24636035e-01, 8.05734250e-01,\n",
              "        7.48647676e-01, 9.37416204e-01]])>"
            ]
          },
          "metadata": {},
          "execution_count": 13
        }
      ]
    },
    {
      "cell_type": "code",
      "source": [
        "unchangable[3].assign(7)"
      ],
      "metadata": {
        "colab": {
          "base_uri": "https://localhost:8080/",
          "height": 297
        },
        "id": "e7ur1Zhs3b-1",
        "outputId": "1e79b482-4251-4d83-d946-ec9e69faf311"
      },
      "execution_count": null,
      "outputs": [
        {
          "output_type": "error",
          "ename": "AttributeError",
          "evalue": "'tensorflow.python.framework.ops.EagerTensor' object has no attribute 'assign'",
          "traceback": [
            "\u001b[0;31m---------------------------------------------------------------------------\u001b[0m",
            "\u001b[0;31mAttributeError\u001b[0m                            Traceback (most recent call last)",
            "\u001b[0;32m<ipython-input-14-83d7de588bb7>\u001b[0m in \u001b[0;36m<cell line: 1>\u001b[0;34m()\u001b[0m\n\u001b[0;32m----> 1\u001b[0;31m \u001b[0munchangable\u001b[0m\u001b[0;34m[\u001b[0m\u001b[0;36m3\u001b[0m\u001b[0;34m]\u001b[0m\u001b[0;34m.\u001b[0m\u001b[0massign\u001b[0m\u001b[0;34m(\u001b[0m\u001b[0;36m7\u001b[0m\u001b[0;34m)\u001b[0m\u001b[0;34m\u001b[0m\u001b[0;34m\u001b[0m\u001b[0m\n\u001b[0m",
            "\u001b[0;32m/usr/local/lib/python3.10/dist-packages/tensorflow/python/framework/tensor.py\u001b[0m in \u001b[0;36m__getattr__\u001b[0;34m(self, name)\u001b[0m\n\u001b[1;32m    259\u001b[0m         \u001b[0mtf\u001b[0m\u001b[0;34m.\u001b[0m\u001b[0mexperimental\u001b[0m\u001b[0;34m.\u001b[0m\u001b[0mnumpy\u001b[0m\u001b[0;34m.\u001b[0m\u001b[0mexperimental_enable_numpy_behavior\u001b[0m\u001b[0;34m(\u001b[0m\u001b[0;34m)\u001b[0m\u001b[0;34m\u001b[0m\u001b[0;34m\u001b[0m\u001b[0m\n\u001b[1;32m    260\u001b[0m       \"\"\")\n\u001b[0;32m--> 261\u001b[0;31m     \u001b[0mself\u001b[0m\u001b[0;34m.\u001b[0m\u001b[0m__getattribute__\u001b[0m\u001b[0;34m(\u001b[0m\u001b[0mname\u001b[0m\u001b[0;34m)\u001b[0m\u001b[0;34m\u001b[0m\u001b[0;34m\u001b[0m\u001b[0m\n\u001b[0m\u001b[1;32m    262\u001b[0m \u001b[0;34m\u001b[0m\u001b[0m\n\u001b[1;32m    263\u001b[0m   \u001b[0;34m@\u001b[0m\u001b[0mproperty\u001b[0m\u001b[0;34m\u001b[0m\u001b[0;34m\u001b[0m\u001b[0m\n",
            "\u001b[0;31mAttributeError\u001b[0m: 'tensorflow.python.framework.ops.EagerTensor' object has no attribute 'assign'"
          ]
        }
      ]
    },
    {
      "cell_type": "code",
      "source": [],
      "metadata": {
        "id": "QUcRRbaY3i6t"
      },
      "execution_count": null,
      "outputs": []
    },
    {
      "cell_type": "markdown",
      "source": [
        "Creating random tensors"
      ],
      "metadata": {
        "id": "WDG4YQB93mT-"
      }
    },
    {
      "cell_type": "code",
      "source": [
        "random = tf.random.Generator.from_seed(42)\n",
        "a = random.uniform(shape = (6,7))"
      ],
      "metadata": {
        "id": "ptWP9nQr3o0V"
      },
      "execution_count": null,
      "outputs": []
    },
    {
      "cell_type": "code",
      "source": [
        "b = random.normal(shape = (6,7))"
      ],
      "metadata": {
        "id": "x6vAK6z63-av"
      },
      "execution_count": null,
      "outputs": []
    },
    {
      "cell_type": "code",
      "source": [
        "a==b"
      ],
      "metadata": {
        "colab": {
          "base_uri": "https://localhost:8080/"
        },
        "id": "Lp-gnUrh4CC-",
        "outputId": "96671927-58d0-46c9-e1c6-2696e2ff5538"
      },
      "execution_count": null,
      "outputs": [
        {
          "output_type": "execute_result",
          "data": {
            "text/plain": [
              "<tf.Tensor: shape=(6, 7), dtype=bool, numpy=\n",
              "array([[False, False, False, False, False, False, False],\n",
              "       [False, False, False, False, False, False, False],\n",
              "       [False, False, False, False, False, False, False],\n",
              "       [False, False, False, False, False, False, False],\n",
              "       [False, False, False, False, False, False, False],\n",
              "       [False, False, False, False, False, False, False]])>"
            ]
          },
          "metadata": {},
          "execution_count": 17
        }
      ]
    },
    {
      "cell_type": "code",
      "source": [
        "# shuffle the order of the elements in a tensor\n",
        "not_shuffled = tf.constant(np.random.random([4,6]))"
      ],
      "metadata": {
        "id": "skDQ7-FT4Ho1"
      },
      "execution_count": null,
      "outputs": []
    },
    {
      "cell_type": "code",
      "source": [
        "not_shuffled.ndim"
      ],
      "metadata": {
        "colab": {
          "base_uri": "https://localhost:8080/"
        },
        "id": "VCIw1A5D4lu3",
        "outputId": "8238aebe-99ea-432f-e63e-89dcb9cbda6b"
      },
      "execution_count": null,
      "outputs": [
        {
          "output_type": "execute_result",
          "data": {
            "text/plain": [
              "2"
            ]
          },
          "metadata": {},
          "execution_count": 19
        }
      ]
    },
    {
      "cell_type": "code",
      "source": [
        "tf.random.set_seed(42) # global seed\n",
        "shuffled = tf.random.shuffle(not_shuffled,seed = 42) # operational seed"
      ],
      "metadata": {
        "id": "igExyOGU4nz-"
      },
      "execution_count": null,
      "outputs": []
    },
    {
      "cell_type": "code",
      "source": [
        "shuffled.ndim"
      ],
      "metadata": {
        "colab": {
          "base_uri": "https://localhost:8080/"
        },
        "id": "JRj8Esz94v3-",
        "outputId": "c71fb47b-3909-47b2-8acf-f1f8260fe2a8"
      },
      "execution_count": null,
      "outputs": [
        {
          "output_type": "execute_result",
          "data": {
            "text/plain": [
              "2"
            ]
          },
          "metadata": {},
          "execution_count": 21
        }
      ]
    },
    {
      "cell_type": "code",
      "source": [
        "not_shuffled"
      ],
      "metadata": {
        "colab": {
          "base_uri": "https://localhost:8080/"
        },
        "id": "dg2VLBMm4xl-",
        "outputId": "ba0a73a1-d00d-4a9d-e736-785c09609bef"
      },
      "execution_count": null,
      "outputs": [
        {
          "output_type": "execute_result",
          "data": {
            "text/plain": [
              "<tf.Tensor: shape=(4, 6), dtype=float64, numpy=\n",
              "array([[0.62395078, 0.03905412, 0.54223095, 0.26178174, 0.97873879,\n",
              "        0.81617943],\n",
              "       [0.13921114, 0.6826974 , 0.10391263, 0.05108492, 0.02044607,\n",
              "        0.75128564],\n",
              "       [0.50992421, 0.03056108, 0.96645731, 0.42588268, 0.59823324,\n",
              "        0.35939805],\n",
              "       [0.45450054, 0.08151765, 0.69360648, 0.69699442, 0.28625873,\n",
              "        0.06211331]])>"
            ]
          },
          "metadata": {},
          "execution_count": 22
        }
      ]
    },
    {
      "cell_type": "code",
      "source": [
        "shuffled # the rows are shuffleed only"
      ],
      "metadata": {
        "colab": {
          "base_uri": "https://localhost:8080/"
        },
        "id": "LMbC_G9F4z8A",
        "outputId": "4aeced7a-4528-4151-f3ea-a55ed1298909"
      },
      "execution_count": null,
      "outputs": [
        {
          "output_type": "execute_result",
          "data": {
            "text/plain": [
              "<tf.Tensor: shape=(4, 6), dtype=float64, numpy=\n",
              "array([[0.13921114, 0.6826974 , 0.10391263, 0.05108492, 0.02044607,\n",
              "        0.75128564],\n",
              "       [0.50992421, 0.03056108, 0.96645731, 0.42588268, 0.59823324,\n",
              "        0.35939805],\n",
              "       [0.62395078, 0.03905412, 0.54223095, 0.26178174, 0.97873879,\n",
              "        0.81617943],\n",
              "       [0.45450054, 0.08151765, 0.69360648, 0.69699442, 0.28625873,\n",
              "        0.06211331]])>"
            ]
          },
          "metadata": {},
          "execution_count": 23
        }
      ]
    },
    {
      "cell_type": "code",
      "source": [
        "tf.ones([10,7])"
      ],
      "metadata": {
        "colab": {
          "base_uri": "https://localhost:8080/"
        },
        "id": "O7DBkABo41r9",
        "outputId": "ccb4ffb0-da1b-43cc-f95b-6ddbc5a4cc5d"
      },
      "execution_count": null,
      "outputs": [
        {
          "output_type": "execute_result",
          "data": {
            "text/plain": [
              "<tf.Tensor: shape=(10, 7), dtype=float32, numpy=\n",
              "array([[1., 1., 1., 1., 1., 1., 1.],\n",
              "       [1., 1., 1., 1., 1., 1., 1.],\n",
              "       [1., 1., 1., 1., 1., 1., 1.],\n",
              "       [1., 1., 1., 1., 1., 1., 1.],\n",
              "       [1., 1., 1., 1., 1., 1., 1.],\n",
              "       [1., 1., 1., 1., 1., 1., 1.],\n",
              "       [1., 1., 1., 1., 1., 1., 1.],\n",
              "       [1., 1., 1., 1., 1., 1., 1.],\n",
              "       [1., 1., 1., 1., 1., 1., 1.],\n",
              "       [1., 1., 1., 1., 1., 1., 1.]], dtype=float32)>"
            ]
          },
          "metadata": {},
          "execution_count": 24
        }
      ]
    },
    {
      "cell_type": "code",
      "source": [
        "# getting information from the tensor"
      ],
      "metadata": {
        "id": "vxSEmKCg5RDm"
      },
      "execution_count": null,
      "outputs": []
    },
    {
      "cell_type": "code",
      "source": [
        "rank_4_tensor = tf.zeros(shape = [1,2,3,4,5,6])"
      ],
      "metadata": {
        "id": "C-EQRYC35eTc"
      },
      "execution_count": null,
      "outputs": []
    },
    {
      "cell_type": "code",
      "source": [
        "a = tf.constant(rank_4_tensor,shape = [6,5,12,2])"
      ],
      "metadata": {
        "id": "VoFNCfJA57eu"
      },
      "execution_count": null,
      "outputs": []
    },
    {
      "cell_type": "code",
      "source": [
        "b = tf.constant(rank_4_tensor)"
      ],
      "metadata": {
        "id": "IHWPbuPQIc-8"
      },
      "execution_count": null,
      "outputs": []
    },
    {
      "cell_type": "code",
      "source": [
        "rank_4_tensor.dtpe"
      ],
      "metadata": {
        "colab": {
          "base_uri": "https://localhost:8080/",
          "height": 297
        },
        "id": "lOy_urn4I9TT",
        "outputId": "9465d856-55ff-473c-898d-3cf85a3ccf8b"
      },
      "execution_count": null,
      "outputs": [
        {
          "output_type": "error",
          "ename": "AttributeError",
          "evalue": "'tensorflow.python.framework.ops.EagerTensor' object has no attribute 'dtpe'",
          "traceback": [
            "\u001b[0;31m---------------------------------------------------------------------------\u001b[0m",
            "\u001b[0;31mAttributeError\u001b[0m                            Traceback (most recent call last)",
            "\u001b[0;32m<ipython-input-31-a48735b94b17>\u001b[0m in \u001b[0;36m<cell line: 1>\u001b[0;34m()\u001b[0m\n\u001b[0;32m----> 1\u001b[0;31m \u001b[0mrank_4_tensor\u001b[0m\u001b[0;34m.\u001b[0m\u001b[0mdtpe\u001b[0m\u001b[0;34m\u001b[0m\u001b[0;34m\u001b[0m\u001b[0m\n\u001b[0m",
            "\u001b[0;32m/usr/local/lib/python3.10/dist-packages/tensorflow/python/framework/tensor.py\u001b[0m in \u001b[0;36m__getattr__\u001b[0;34m(self, name)\u001b[0m\n\u001b[1;32m    259\u001b[0m         \u001b[0mtf\u001b[0m\u001b[0;34m.\u001b[0m\u001b[0mexperimental\u001b[0m\u001b[0;34m.\u001b[0m\u001b[0mnumpy\u001b[0m\u001b[0;34m.\u001b[0m\u001b[0mexperimental_enable_numpy_behavior\u001b[0m\u001b[0;34m(\u001b[0m\u001b[0;34m)\u001b[0m\u001b[0;34m\u001b[0m\u001b[0;34m\u001b[0m\u001b[0m\n\u001b[1;32m    260\u001b[0m       \"\"\")\n\u001b[0;32m--> 261\u001b[0;31m     \u001b[0mself\u001b[0m\u001b[0;34m.\u001b[0m\u001b[0m__getattribute__\u001b[0m\u001b[0;34m(\u001b[0m\u001b[0mname\u001b[0m\u001b[0;34m)\u001b[0m\u001b[0;34m\u001b[0m\u001b[0;34m\u001b[0m\u001b[0m\n\u001b[0m\u001b[1;32m    262\u001b[0m \u001b[0;34m\u001b[0m\u001b[0m\n\u001b[1;32m    263\u001b[0m   \u001b[0;34m@\u001b[0m\u001b[0mproperty\u001b[0m\u001b[0;34m\u001b[0m\u001b[0;34m\u001b[0m\u001b[0m\n",
            "\u001b[0;31mAttributeError\u001b[0m: 'tensorflow.python.framework.ops.EagerTensor' object has no attribute 'dtpe'"
          ]
        }
      ]
    },
    {
      "cell_type": "code",
      "source": [
        "rank_4_tensor.ndim"
      ],
      "metadata": {
        "colab": {
          "base_uri": "https://localhost:8080/"
        },
        "id": "d2YikvMTJL7t",
        "outputId": "62dd1af5-3667-450b-eaf7-80617ee85b1b"
      },
      "execution_count": null,
      "outputs": [
        {
          "output_type": "execute_result",
          "data": {
            "text/plain": [
              "6"
            ]
          },
          "metadata": {},
          "execution_count": 32
        }
      ]
    },
    {
      "cell_type": "code",
      "source": [
        "rank_4_tensor.shape"
      ],
      "metadata": {
        "colab": {
          "base_uri": "https://localhost:8080/"
        },
        "id": "pJ1lz0iZJNgu",
        "outputId": "d9f3bf9d-eb07-4dd9-b2c9-8d0769cd178e"
      },
      "execution_count": null,
      "outputs": [
        {
          "output_type": "execute_result",
          "data": {
            "text/plain": [
              "TensorShape([1, 2, 3, 4, 5, 6])"
            ]
          },
          "metadata": {},
          "execution_count": 33
        }
      ]
    },
    {
      "cell_type": "code",
      "source": [
        "rank_4_tensor.shape[0]"
      ],
      "metadata": {
        "colab": {
          "base_uri": "https://localhost:8080/"
        },
        "id": "PNk0_2f3JOlK",
        "outputId": "47cf2c22-c620-45c6-ca77-d2d0255298e0"
      },
      "execution_count": null,
      "outputs": [
        {
          "output_type": "execute_result",
          "data": {
            "text/plain": [
              "1"
            ]
          },
          "metadata": {},
          "execution_count": 34
        }
      ]
    },
    {
      "cell_type": "code",
      "source": [],
      "metadata": {
        "id": "iorY0mP4JXY9"
      },
      "execution_count": null,
      "outputs": []
    },
    {
      "cell_type": "code",
      "source": [
        "rank_4_tensor.shape[-1] # elements along last axis"
      ],
      "metadata": {
        "colab": {
          "base_uri": "https://localhost:8080/"
        },
        "id": "n5GLiDNUJPi8",
        "outputId": "c3bd9c62-68a3-46a8-d42f-d99b9568a2ca"
      },
      "execution_count": null,
      "outputs": [
        {
          "output_type": "execute_result",
          "data": {
            "text/plain": [
              "6"
            ]
          },
          "metadata": {},
          "execution_count": 35
        }
      ]
    },
    {
      "cell_type": "code",
      "source": [
        "tf.size(rank_4_tensor).numpy()"
      ],
      "metadata": {
        "colab": {
          "base_uri": "https://localhost:8080/"
        },
        "id": "bmusgYGUJRKJ",
        "outputId": "2fc45f20-3aa7-4061-caca-db7eede784a5"
      },
      "execution_count": null,
      "outputs": [
        {
          "output_type": "execute_result",
          "data": {
            "text/plain": [
              "720"
            ]
          },
          "metadata": {},
          "execution_count": 37
        }
      ]
    },
    {
      "cell_type": "code",
      "source": [],
      "metadata": {
        "id": "Y4ofkHfoJVir"
      },
      "execution_count": null,
      "outputs": []
    },
    {
      "cell_type": "markdown",
      "source": [
        "# Indexing"
      ],
      "metadata": {
        "id": "6uEgLHTxJfiw"
      }
    },
    {
      "cell_type": "code",
      "source": [
        "# get first 2 element of each dimension\n",
        "rank_4_tensor[:2,:2,:2,:2,:2,:2]"
      ],
      "metadata": {
        "colab": {
          "base_uri": "https://localhost:8080/"
        },
        "id": "LUCnWmXcJgwa",
        "outputId": "ff92a862-4376-4a71-a9fc-4d4c4559cdbe"
      },
      "execution_count": null,
      "outputs": [
        {
          "output_type": "execute_result",
          "data": {
            "text/plain": [
              "<tf.Tensor: shape=(1, 2, 2, 2, 2, 2), dtype=float32, numpy=\n",
              "array([[[[[[0., 0.],\n",
              "           [0., 0.]],\n",
              "\n",
              "          [[0., 0.],\n",
              "           [0., 0.]]],\n",
              "\n",
              "\n",
              "         [[[0., 0.],\n",
              "           [0., 0.]],\n",
              "\n",
              "          [[0., 0.],\n",
              "           [0., 0.]]]],\n",
              "\n",
              "\n",
              "\n",
              "        [[[[0., 0.],\n",
              "           [0., 0.]],\n",
              "\n",
              "          [[0., 0.],\n",
              "           [0., 0.]]],\n",
              "\n",
              "\n",
              "         [[[0., 0.],\n",
              "           [0., 0.]],\n",
              "\n",
              "          [[0., 0.],\n",
              "           [0., 0.]]]]]], dtype=float32)>"
            ]
          },
          "metadata": {},
          "execution_count": 38
        }
      ]
    },
    {
      "cell_type": "code",
      "source": [
        "# get 1st element each dimension from each index except final one\n",
        "rank_4_tensor[:1,:1,:1,:1,:1,:]"
      ],
      "metadata": {
        "colab": {
          "base_uri": "https://localhost:8080/"
        },
        "id": "9TXC8Oq2LUFw",
        "outputId": "bf82216e-0cf8-45a0-ffb2-086bb6073e78"
      },
      "execution_count": null,
      "outputs": [
        {
          "output_type": "execute_result",
          "data": {
            "text/plain": [
              "<tf.Tensor: shape=(1, 1, 1, 1, 1, 6), dtype=float32, numpy=array([[[[[[0., 0., 0., 0., 0., 0.]]]]]], dtype=float32)>"
            ]
          },
          "metadata": {},
          "execution_count": 41
        }
      ]
    },
    {
      "cell_type": "code",
      "source": [
        "rank_5_tensor = rank_4_tensor[...,tf.newaxis]"
      ],
      "metadata": {
        "id": "vN85EK48LjCD"
      },
      "execution_count": null,
      "outputs": []
    },
    {
      "cell_type": "code",
      "source": [
        "rank_5_tensor.ndim"
      ],
      "metadata": {
        "colab": {
          "base_uri": "https://localhost:8080/"
        },
        "id": "AS61bqNdMF3S",
        "outputId": "94b00afe-d243-4c5e-e200-4d6d5dcb19d7"
      },
      "execution_count": null,
      "outputs": [
        {
          "output_type": "execute_result",
          "data": {
            "text/plain": [
              "7"
            ]
          },
          "metadata": {},
          "execution_count": 46
        }
      ]
    },
    {
      "cell_type": "code",
      "source": [],
      "metadata": {
        "id": "f50vM84wMKN6"
      },
      "execution_count": null,
      "outputs": []
    },
    {
      "cell_type": "markdown",
      "source": [
        "# manipulating tensors"
      ],
      "metadata": {
        "id": "_g-5UPLUMZNt"
      }
    },
    {
      "cell_type": "code",
      "source": [
        "tensor = tf.constant([[10,7],[9,8]])"
      ],
      "metadata": {
        "id": "g2PT4lv0Ma1U"
      },
      "execution_count": null,
      "outputs": []
    },
    {
      "cell_type": "code",
      "source": [
        "tensor+10"
      ],
      "metadata": {
        "colab": {
          "base_uri": "https://localhost:8080/"
        },
        "id": "PXW8eWrUMmDL",
        "outputId": "a3235d6c-189e-4419-b19e-03bc26605868"
      },
      "execution_count": null,
      "outputs": [
        {
          "output_type": "execute_result",
          "data": {
            "text/plain": [
              "<tf.Tensor: shape=(2, 2), dtype=int32, numpy=\n",
              "array([[20, 17],\n",
              "       [19, 18]], dtype=int32)>"
            ]
          },
          "metadata": {},
          "execution_count": 48
        }
      ]
    },
    {
      "cell_type": "code",
      "source": [
        "tensor # the original one isnt changed"
      ],
      "metadata": {
        "colab": {
          "base_uri": "https://localhost:8080/"
        },
        "id": "OeANB5AlMns6",
        "outputId": "9d445cf3-c73f-43d5-f5fe-3c532a3e0758"
      },
      "execution_count": null,
      "outputs": [
        {
          "output_type": "execute_result",
          "data": {
            "text/plain": [
              "<tf.Tensor: shape=(2, 2), dtype=int32, numpy=\n",
              "array([[10,  7],\n",
              "       [ 9,  8]], dtype=int32)>"
            ]
          },
          "metadata": {},
          "execution_count": 49
        }
      ]
    },
    {
      "cell_type": "code",
      "source": [
        "tf.multiply(tensor,10)"
      ],
      "metadata": {
        "colab": {
          "base_uri": "https://localhost:8080/"
        },
        "id": "kHMeUoQRMqZ_",
        "outputId": "5bc4b4ef-b07e-4875-a341-8bbcca23bc70"
      },
      "execution_count": null,
      "outputs": [
        {
          "output_type": "execute_result",
          "data": {
            "text/plain": [
              "<tf.Tensor: shape=(2, 2), dtype=int32, numpy=\n",
              "array([[100,  70],\n",
              "       [ 90,  80]], dtype=int32)>"
            ]
          },
          "metadata": {},
          "execution_count": 50
        }
      ]
    },
    {
      "cell_type": "code",
      "source": [
        "tensor*19"
      ],
      "metadata": {
        "colab": {
          "base_uri": "https://localhost:8080/"
        },
        "id": "UFYVjYT5Mz77",
        "outputId": "c27d4cde-e2b4-4712-af8b-c29627b8bf88"
      },
      "execution_count": null,
      "outputs": [
        {
          "output_type": "execute_result",
          "data": {
            "text/plain": [
              "<tf.Tensor: shape=(2, 2), dtype=int32, numpy=\n",
              "array([[190, 133],\n",
              "       [171, 152]], dtype=int32)>"
            ]
          },
          "metadata": {},
          "execution_count": 51
        }
      ]
    },
    {
      "cell_type": "code",
      "source": [
        "x = np.random.random([9,10])"
      ],
      "metadata": {
        "id": "jaBrIdIeM4W-"
      },
      "execution_count": null,
      "outputs": []
    },
    {
      "cell_type": "code",
      "source": [
        "y = np.random.random([10,9])"
      ],
      "metadata": {
        "id": "LvqDI0VNNGVL"
      },
      "execution_count": null,
      "outputs": []
    },
    {
      "cell_type": "code",
      "source": [
        "tensor = tf.matmul(x.T,y.T)"
      ],
      "metadata": {
        "id": "HhdzBswvNLiu"
      },
      "execution_count": null,
      "outputs": []
    },
    {
      "cell_type": "code",
      "source": [
        "tensor"
      ],
      "metadata": {
        "colab": {
          "base_uri": "https://localhost:8080/"
        },
        "id": "vl_IesK6NQBC",
        "outputId": "fca343af-3b9f-4409-d7d0-d38a321e84c6"
      },
      "execution_count": null,
      "outputs": [
        {
          "output_type": "execute_result",
          "data": {
            "text/plain": [
              "<tf.Tensor: shape=(10, 10), dtype=float64, numpy=\n",
              "array([[2.52635545, 3.37728851, 2.96744617, 3.17984514, 2.42973299,\n",
              "        1.59646554, 2.48949213, 2.40404685, 2.53111191, 3.03605013],\n",
              "       [2.97070846, 4.03803967, 3.50755632, 3.27942019, 3.13968081,\n",
              "        2.5475001 , 2.68054449, 3.02915313, 3.17046483, 3.58463187],\n",
              "       [2.20682975, 2.87052404, 2.64378994, 2.41233656, 2.23734966,\n",
              "        1.99340819, 2.08762827, 2.51670132, 2.50298065, 2.57403847],\n",
              "       [2.13047392, 2.93297273, 2.95139016, 2.35478135, 2.13299588,\n",
              "        1.6517698 , 1.81328289, 1.92424796, 2.59038314, 2.57528084],\n",
              "       [2.02690623, 2.39580354, 2.0221193 , 2.19067211, 1.91826263,\n",
              "        1.30578579, 1.72301683, 1.87587583, 1.93518722, 2.09261172],\n",
              "       [1.64276506, 2.65432891, 2.14515658, 2.36583342, 2.07436015,\n",
              "        1.35851625, 1.82038381, 1.6690009 , 1.69178274, 2.07370713],\n",
              "       [1.37778796, 2.17957172, 1.85406579, 1.61070676, 1.47150659,\n",
              "        1.13455895, 1.07942832, 1.42658205, 1.36975262, 1.50160465],\n",
              "       [1.90011554, 3.0444131 , 2.33539087, 2.55304159, 2.23584977,\n",
              "        1.8976218 , 1.99130319, 2.55399599, 1.79804563, 2.32644747],\n",
              "       [2.8048448 , 3.43912277, 3.07920052, 2.36284266, 2.60123958,\n",
              "        2.32390475, 1.99357655, 2.53499027, 2.96287896, 3.11463476],\n",
              "       [1.66467399, 2.98480005, 2.40332894, 2.52595852, 2.06305708,\n",
              "        1.6380291 , 2.12836844, 2.07141524, 1.79352495, 2.63748374]])>"
            ]
          },
          "metadata": {},
          "execution_count": 56
        }
      ]
    },
    {
      "cell_type": "code",
      "source": [
        "x.T @ tf.reshape(y, shape = (9,10)) # this also multiplies haha"
      ],
      "metadata": {
        "colab": {
          "base_uri": "https://localhost:8080/"
        },
        "id": "wE9RnhCpNRW1",
        "outputId": "494cba80-8f97-4f17-be6e-14bb1ca07fda"
      },
      "execution_count": null,
      "outputs": [
        {
          "output_type": "execute_result",
          "data": {
            "text/plain": [
              "<tf.Tensor: shape=(10, 10), dtype=float64, numpy=\n",
              "array([[2.15738878, 2.29572803, 2.81978533, 2.93777043, 3.08634611,\n",
              "        2.80224476, 1.86922814, 2.6790365 , 2.5371037 , 2.59330719],\n",
              "       [3.12780447, 2.70927271, 3.71038257, 3.58109626, 3.68421234,\n",
              "        3.24679121, 2.70526697, 3.40160576, 3.06668034, 3.31903723],\n",
              "       [2.63370903, 2.24659573, 2.31327666, 2.75816427, 2.33782273,\n",
              "        2.31669816, 2.14500831, 2.55920235, 2.26440844, 2.25076737],\n",
              "       [2.08523385, 1.85827996, 2.46361686, 2.57897425, 2.58880755,\n",
              "        2.44596899, 1.64217811, 2.34300317, 2.38477817, 2.05968766],\n",
              "       [1.95637895, 1.66841897, 2.5890256 , 1.96256021, 2.64665495,\n",
              "        2.24863053, 1.56885045, 2.16727016, 1.7085485 , 1.89426444],\n",
              "       [1.86966255, 1.69982806, 2.56071394, 1.87252127, 2.49877491,\n",
              "        2.22240768, 1.77645021, 2.44491063, 2.03338451, 2.15439249],\n",
              "       [1.56079875, 1.22878632, 1.50960968, 1.5566545 , 1.93204922,\n",
              "        1.93146064, 0.93538472, 1.71971889, 1.71124766, 1.29101666],\n",
              "       [2.67317508, 2.15308953, 2.25522599, 2.46314376, 2.61500203,\n",
              "        2.52290599, 2.04944631, 2.8118538 , 2.37014229, 2.25872952],\n",
              "       [2.41084528, 2.15597378, 2.81122688, 3.28273118, 2.8466135 ,\n",
              "        2.6221382 , 1.88782022, 2.32785957, 2.50536155, 2.74159875],\n",
              "       [2.18784584, 2.0442366 , 2.48092819, 2.53268348, 2.63117155,\n",
              "        2.17619628, 1.9609661 , 2.68548274, 2.4439399 , 2.39816754]])>"
            ]
          },
          "metadata": {},
          "execution_count": 57
        }
      ]
    },
    {
      "cell_type": "code",
      "source": [
        "tf.tensordot(x,y,axes = 1)"
      ],
      "metadata": {
        "colab": {
          "base_uri": "https://localhost:8080/"
        },
        "id": "BCGmCGbgNjWC",
        "outputId": "74408a1b-644b-4b60-d064-19f0a691798f"
      },
      "execution_count": null,
      "outputs": [
        {
          "output_type": "execute_result",
          "data": {
            "text/plain": [
              "<tf.Tensor: shape=(9, 9), dtype=float64, numpy=\n",
              "array([[3.11543482, 3.68502223, 3.47529282, 3.43250032, 3.0301497 ,\n",
              "        2.57710841, 2.60336949, 2.91045042, 3.56010495],\n",
              "       [2.60296209, 3.11243927, 3.36510743, 2.92581237, 2.45241651,\n",
              "        1.97423593, 1.77661299, 2.49831064, 2.75407264],\n",
              "       [2.26962349, 2.64099535, 2.70499793, 2.7411238 , 1.7514102 ,\n",
              "        2.68604207, 2.31137331, 2.33514624, 2.16317596],\n",
              "       [2.99775847, 3.12055575, 3.65006453, 3.3555821 , 2.74499263,\n",
              "        2.85696039, 2.48128427, 2.79950262, 2.8207738 ],\n",
              "       [2.51198047, 2.96975865, 3.22260727, 2.7956237 , 2.43405208,\n",
              "        2.2835341 , 2.00760343, 2.33758977, 2.25046322],\n",
              "       [1.736176  , 1.93368132, 2.43733163, 2.39384636, 1.59052457,\n",
              "        2.16449666, 1.87923488, 1.92456833, 1.86597071],\n",
              "       [2.90312995, 3.17779538, 2.7679872 , 2.67133305, 2.94824491,\n",
              "        2.18409085, 1.99589362, 2.49246925, 2.74129387],\n",
              "       [2.38257926, 3.43422191, 3.06034703, 3.06420825, 3.24158168,\n",
              "        1.8248605 , 2.26341594, 2.73925313, 3.71574117],\n",
              "       [2.26656083, 2.2769364 , 2.90603458, 2.79471991, 2.15984661,\n",
              "        2.18201724, 1.99720521, 2.14453935, 2.45138269]])>"
            ]
          },
          "metadata": {},
          "execution_count": 60
        }
      ]
    },
    {
      "cell_type": "code",
      "source": [],
      "metadata": {
        "id": "7TSnDT1rN1s6"
      },
      "execution_count": null,
      "outputs": []
    },
    {
      "cell_type": "markdown",
      "source": [
        "# changing the data type of tensor"
      ],
      "metadata": {
        "id": "HXbMpBMDOKKV"
      }
    },
    {
      "cell_type": "code",
      "source": [
        "tensor = tf.cast(tensor, dtype = tf.float16)"
      ],
      "metadata": {
        "id": "oD_ix1oSOMPZ"
      },
      "execution_count": null,
      "outputs": []
    },
    {
      "cell_type": "code",
      "source": [],
      "metadata": {
        "id": "k6VxvusZOZhP"
      },
      "execution_count": null,
      "outputs": []
    },
    {
      "cell_type": "markdown",
      "source": [
        "# Aggregating tensor"
      ],
      "metadata": {
        "id": "snzqtvo6Ogqq"
      }
    },
    {
      "cell_type": "code",
      "source": [
        "d = tf.constant([-9,8])"
      ],
      "metadata": {
        "id": "0Q-XpEcROjLR"
      },
      "execution_count": null,
      "outputs": []
    },
    {
      "cell_type": "code",
      "source": [
        "tf.abs(d)"
      ],
      "metadata": {
        "colab": {
          "base_uri": "https://localhost:8080/"
        },
        "id": "rKpvbzqSOrLN",
        "outputId": "85efaca8-4534-410f-c211-70d8dc4548eb"
      },
      "execution_count": null,
      "outputs": [
        {
          "output_type": "execute_result",
          "data": {
            "text/plain": [
              "<tf.Tensor: shape=(2,), dtype=int32, numpy=array([9, 8], dtype=int32)>"
            ]
          },
          "metadata": {},
          "execution_count": 64
        }
      ]
    },
    {
      "cell_type": "code",
      "source": [
        "g = tf.constant(np.random.randint(0,100,size = (20,20)))"
      ],
      "metadata": {
        "id": "gI4Txj6oOsnt"
      },
      "execution_count": null,
      "outputs": []
    },
    {
      "cell_type": "code",
      "source": [
        "tf.size(g)"
      ],
      "metadata": {
        "colab": {
          "base_uri": "https://localhost:8080/"
        },
        "id": "dveG-xgmO3qt",
        "outputId": "2f2eb4e7-16d2-4253-a2de-a1b278e4a3f6"
      },
      "execution_count": null,
      "outputs": [
        {
          "output_type": "execute_result",
          "data": {
            "text/plain": [
              "<tf.Tensor: shape=(), dtype=int32, numpy=400>"
            ]
          },
          "metadata": {},
          "execution_count": 66
        }
      ]
    },
    {
      "cell_type": "code",
      "source": [
        "g"
      ],
      "metadata": {
        "colab": {
          "base_uri": "https://localhost:8080/"
        },
        "id": "E3je1X7GO6mq",
        "outputId": "aa0e497f-568d-4cb5-a60f-9542070bc26c"
      },
      "execution_count": null,
      "outputs": [
        {
          "output_type": "execute_result",
          "data": {
            "text/plain": [
              "<tf.Tensor: shape=(20, 20), dtype=int64, numpy=\n",
              "array([[66, 20, 45, 62, 70, 52, 87, 25, 68, 15,  0, 61, 96,  0, 55, 21,\n",
              "        84, 12, 75, 85],\n",
              "       [86, 36, 10,  1, 29, 70, 30, 89, 11, 90,  0, 84, 34, 82, 52, 28,\n",
              "        68, 29, 47, 32],\n",
              "       [99, 18, 67, 75, 57, 76, 19, 54, 58, 34, 93, 33,  0, 47, 69, 52,\n",
              "        73, 29, 14, 70],\n",
              "       [21, 27, 79, 64,  8,  8, 85, 76, 34, 61, 95, 22, 19, 91,  5, 86,\n",
              "        22, 74, 36, 85],\n",
              "       [ 9, 78, 93, 56, 57, 95, 37, 76,  2, 96, 94,  4, 81, 19,  6, 69,\n",
              "         2, 53, 49, 15],\n",
              "       [ 8, 48, 73,  1,  1, 90,  8, 58, 70, 53, 15, 92, 29, 60, 39, 85,\n",
              "        93,  7, 84, 80],\n",
              "       [37, 40, 30, 12, 79, 80,  0,  1, 67, 28, 69, 30, 61, 73, 59,  8,\n",
              "        48, 37, 49, 27],\n",
              "       [26, 46,  9, 71, 12, 36, 94, 81, 74, 93, 76, 87, 40, 34, 46, 32,\n",
              "         9, 57, 93, 32],\n",
              "       [18, 84, 46, 88, 90, 73, 77, 65, 75, 45,  4, 85, 87, 64, 66, 76,\n",
              "        91, 10, 92, 30],\n",
              "       [86, 29, 74, 38, 33, 92,  5, 17, 21, 84, 73, 41, 85, 87, 71, 98,\n",
              "        31, 22, 90, 59],\n",
              "       [54, 20, 24, 49, 55, 21, 14, 19, 11, 54, 38, 57,  9, 51, 58, 62,\n",
              "         8, 13, 14, 45],\n",
              "       [85, 78, 19, 15, 73, 78, 29, 87, 94, 57, 47, 49, 25, 18, 72, 86,\n",
              "         9, 44, 87,  8],\n",
              "       [36,  5, 17, 96, 83,  1, 48, 55, 56, 65, 62, 39, 54, 22,  6,  5,\n",
              "        37, 66, 99, 97],\n",
              "       [19, 77, 72,  6, 98, 52, 30,  4, 97, 47, 65, 57, 56, 74, 51, 87,\n",
              "         4, 35, 72, 64],\n",
              "       [51, 95,  3,  7, 25, 64, 52, 25, 54,  3, 32, 75, 15, 65, 71, 45,\n",
              "        95, 90, 36,  9],\n",
              "       [30, 93, 32, 79, 10, 49, 74, 41, 30,  6, 63, 17, 63, 52, 72, 95,\n",
              "        66, 54,  9, 32],\n",
              "       [ 3, 68, 46, 96, 77, 42,  6, 31, 24,  3, 72, 64,  1, 53, 71, 34,\n",
              "        25, 47, 10, 76],\n",
              "       [ 3, 88, 91, 55, 34, 75, 84, 98, 58, 30, 36,  6, 76, 44, 59, 22,\n",
              "        42, 51, 71, 19],\n",
              "       [53, 78, 24, 60, 72, 20, 51, 15, 86, 69, 96, 68, 50, 87, 82, 26,\n",
              "        48, 87, 49, 20],\n",
              "       [97, 31, 64, 66, 85, 70, 68, 51, 32, 23, 86, 33, 38, 51, 79, 93,\n",
              "        61, 80, 83, 79]])>"
            ]
          },
          "metadata": {},
          "execution_count": 68
        }
      ]
    },
    {
      "cell_type": "code",
      "source": [
        "# find the min\n",
        "tf.reduce_min(g)"
      ],
      "metadata": {
        "colab": {
          "base_uri": "https://localhost:8080/"
        },
        "id": "EdM6C01oO7M7",
        "outputId": "7f4f9bbe-1059-43c9-d444-0be59997d270"
      },
      "execution_count": null,
      "outputs": [
        {
          "output_type": "execute_result",
          "data": {
            "text/plain": [
              "<tf.Tensor: shape=(), dtype=int64, numpy=0>"
            ]
          },
          "metadata": {},
          "execution_count": 69
        }
      ]
    },
    {
      "cell_type": "code",
      "source": [
        "tf.reduce_max(g)"
      ],
      "metadata": {
        "colab": {
          "base_uri": "https://localhost:8080/"
        },
        "id": "tbw_UTNKPB41",
        "outputId": "24c33916-ceff-4d25-de2b-4afa3a342b81"
      },
      "execution_count": null,
      "outputs": [
        {
          "output_type": "execute_result",
          "data": {
            "text/plain": [
              "<tf.Tensor: shape=(), dtype=int64, numpy=99>"
            ]
          },
          "metadata": {},
          "execution_count": 70
        }
      ]
    },
    {
      "cell_type": "code",
      "source": [
        "tf.reduce_mean(g)"
      ],
      "metadata": {
        "colab": {
          "base_uri": "https://localhost:8080/"
        },
        "id": "uX0qjpldPDo1",
        "outputId": "3d84e96c-b007-49f8-cc02-c85ddb423c71"
      },
      "execution_count": null,
      "outputs": [
        {
          "output_type": "execute_result",
          "data": {
            "text/plain": [
              "<tf.Tensor: shape=(), dtype=int64, numpy=50>"
            ]
          },
          "metadata": {},
          "execution_count": 71
        }
      ]
    },
    {
      "cell_type": "code",
      "source": [
        "tf.reduce_sum(g)"
      ],
      "metadata": {
        "colab": {
          "base_uri": "https://localhost:8080/"
        },
        "id": "g6am3TxFPFQF",
        "outputId": "ffa7fbba-fbbe-4e30-eb3e-8b2aa32f504a"
      },
      "execution_count": null,
      "outputs": [
        {
          "output_type": "execute_result",
          "data": {
            "text/plain": [
              "<tf.Tensor: shape=(), dtype=int64, numpy=20145>"
            ]
          },
          "metadata": {},
          "execution_count": 72
        }
      ]
    },
    {
      "cell_type": "code",
      "source": [
        "import tensorflow_probability as tfp\n",
        "tfp.stats.variance(g)"
      ],
      "metadata": {
        "colab": {
          "base_uri": "https://localhost:8080/"
        },
        "id": "B6aKxudtPGUs",
        "outputId": "129d7a92-8394-4779-bb46-5ade2cd75751"
      },
      "execution_count": null,
      "outputs": [
        {
          "output_type": "execute_result",
          "data": {
            "text/plain": [
              "<tf.Tensor: shape=(20,), dtype=int64, numpy=\n",
              "array([1005,  810,  789,  987,  901,  751,  935,  863,  782,  845, 1008,\n",
              "        699,  835,  619,  533,  951,  957,  631,  890,  807])>"
            ]
          },
          "metadata": {},
          "execution_count": 76
        }
      ]
    },
    {
      "cell_type": "code",
      "source": [
        "tf.math.reduce_std(tf.cast(g,dtype = tf.float32))"
      ],
      "metadata": {
        "colab": {
          "base_uri": "https://localhost:8080/"
        },
        "id": "sfumzoxcPLWU",
        "outputId": "e520f2b5-f894-4f76-c683-9b621cbda459"
      },
      "execution_count": null,
      "outputs": [
        {
          "output_type": "execute_result",
          "data": {
            "text/plain": [
              "<tf.Tensor: shape=(), dtype=float32, numpy=29.1299>"
            ]
          },
          "metadata": {},
          "execution_count": 79
        }
      ]
    },
    {
      "cell_type": "code",
      "source": [
        "tf.math.reduce_variance(tf.cast(g,dtype = tf.float32))"
      ],
      "metadata": {
        "colab": {
          "base_uri": "https://localhost:8080/"
        },
        "id": "Px8GOE9sPjjU",
        "outputId": "521b224a-fd84-49bc-e2f6-09b907e9d2e5"
      },
      "execution_count": null,
      "outputs": [
        {
          "output_type": "execute_result",
          "data": {
            "text/plain": [
              "<tf.Tensor: shape=(), dtype=float32, numpy=848.5511>"
            ]
          },
          "metadata": {},
          "execution_count": 82
        }
      ]
    },
    {
      "cell_type": "code",
      "source": [],
      "metadata": {
        "id": "UidA4c85QAqk"
      },
      "execution_count": null,
      "outputs": []
    },
    {
      "cell_type": "markdown",
      "source": [
        "# Finding positional min and max"
      ],
      "metadata": {
        "id": "-KZDDkz3QIsw"
      }
    },
    {
      "cell_type": "code",
      "source": [
        "tf.argmax(g) #returns the index of highest no in each axis"
      ],
      "metadata": {
        "colab": {
          "base_uri": "https://localhost:8080/"
        },
        "id": "uXxsSD2OQKrD",
        "outputId": "a13966c9-308a-4b52-e049-fb577864a8fb"
      },
      "execution_count": null,
      "outputs": [
        {
          "output_type": "execute_result",
          "data": {
            "text/plain": [
              "<tf.Tensor: shape=(20,), dtype=int64, numpy=\n",
              "array([ 2, 14,  4, 12, 13,  4,  7, 17, 13,  4, 18,  5,  0,  3, 18,  9, 14,\n",
              "       14, 12, 12])>"
            ]
          },
          "metadata": {},
          "execution_count": 84
        }
      ]
    },
    {
      "cell_type": "code",
      "source": [
        "tf.reduce_max(g)"
      ],
      "metadata": {
        "colab": {
          "base_uri": "https://localhost:8080/"
        },
        "id": "AsVwTmYFQSCj",
        "outputId": "bf5583b1-7606-47bd-acbb-f280638a228b"
      },
      "execution_count": null,
      "outputs": [
        {
          "output_type": "execute_result",
          "data": {
            "text/plain": [
              "<tf.Tensor: shape=(), dtype=int64, numpy=99>"
            ]
          },
          "metadata": {},
          "execution_count": 87
        }
      ]
    },
    {
      "cell_type": "code",
      "source": [],
      "metadata": {
        "id": "pEfIqIHLQYuW"
      },
      "execution_count": null,
      "outputs": []
    },
    {
      "cell_type": "markdown",
      "source": [
        "# Squeezing the tensor"
      ],
      "metadata": {
        "id": "GNI3cWOzQxXv"
      }
    },
    {
      "cell_type": "code",
      "source": [],
      "metadata": {
        "id": "7doKgZOFQ6_h"
      },
      "execution_count": null,
      "outputs": []
    },
    {
      "cell_type": "code",
      "source": [
        "g = tf.constant(tf.random.uniform(shape = [50]),shape = (1,1,1,1,50))"
      ],
      "metadata": {
        "id": "5KCapsz-QzLb"
      },
      "execution_count": null,
      "outputs": []
    },
    {
      "cell_type": "code",
      "source": [
        "g_squeezed = tf.squeeze(g)"
      ],
      "metadata": {
        "id": "i7KSx6k4RCIB"
      },
      "execution_count": null,
      "outputs": []
    },
    {
      "cell_type": "code",
      "source": [
        "g.shape"
      ],
      "metadata": {
        "colab": {
          "base_uri": "https://localhost:8080/"
        },
        "id": "IHJz6G0PRIfy",
        "outputId": "b08e177f-9186-4eb5-b150-ffdfd5384790"
      },
      "execution_count": null,
      "outputs": [
        {
          "output_type": "execute_result",
          "data": {
            "text/plain": [
              "TensorShape([1, 1, 1, 1, 50])"
            ]
          },
          "metadata": {},
          "execution_count": 91
        }
      ]
    },
    {
      "cell_type": "code",
      "source": [
        "g_squeezed.shape\n"
      ],
      "metadata": {
        "colab": {
          "base_uri": "https://localhost:8080/"
        },
        "id": "XXu5LuoCRJ0l",
        "outputId": "596471fd-6b66-4cc7-c10d-15e418d5f473"
      },
      "execution_count": null,
      "outputs": [
        {
          "output_type": "execute_result",
          "data": {
            "text/plain": [
              "TensorShape([50])"
            ]
          },
          "metadata": {},
          "execution_count": 92
        }
      ]
    },
    {
      "cell_type": "code",
      "source": [],
      "metadata": {
        "id": "_k6OafQDRLPS"
      },
      "execution_count": null,
      "outputs": []
    },
    {
      "cell_type": "markdown",
      "source": [
        "# One Hot Encoding"
      ],
      "metadata": {
        "id": "KCqJ1LSERNbl"
      }
    },
    {
      "cell_type": "code",
      "source": [
        "some_list = [0,1,2,3]"
      ],
      "metadata": {
        "id": "eB8XQyY3RPYc"
      },
      "execution_count": null,
      "outputs": []
    },
    {
      "cell_type": "code",
      "source": [
        "tf.one_hot(some_list,depth = 4)"
      ],
      "metadata": {
        "colab": {
          "base_uri": "https://localhost:8080/"
        },
        "id": "23YijmmDRUe7",
        "outputId": "3d8ba6c1-1297-4f0a-fd5e-19053fbc9421"
      },
      "execution_count": null,
      "outputs": [
        {
          "output_type": "execute_result",
          "data": {
            "text/plain": [
              "<tf.Tensor: shape=(4, 4), dtype=float32, numpy=\n",
              "array([[1., 0., 0., 0.],\n",
              "       [0., 1., 0., 0.],\n",
              "       [0., 0., 1., 0.],\n",
              "       [0., 0., 0., 1.]], dtype=float32)>"
            ]
          },
          "metadata": {},
          "execution_count": 95
        }
      ]
    },
    {
      "cell_type": "code",
      "source": [
        "tf.one_hot(some_list,depth = 4,on_value = \"yes\",off_value=\"NO\")"
      ],
      "metadata": {
        "colab": {
          "base_uri": "https://localhost:8080/"
        },
        "id": "QtuqKG0dRaNK",
        "outputId": "7b49cbcd-f34c-4220-ddfc-173a623bc1e5"
      },
      "execution_count": null,
      "outputs": [
        {
          "output_type": "execute_result",
          "data": {
            "text/plain": [
              "<tf.Tensor: shape=(4, 4), dtype=string, numpy=\n",
              "array([[b'yes', b'NO', b'NO', b'NO'],\n",
              "       [b'NO', b'yes', b'NO', b'NO'],\n",
              "       [b'NO', b'NO', b'yes', b'NO'],\n",
              "       [b'NO', b'NO', b'NO', b'yes']], dtype=object)>"
            ]
          },
          "metadata": {},
          "execution_count": 97
        }
      ]
    },
    {
      "cell_type": "code",
      "source": [
        "tf.square(g)"
      ],
      "metadata": {
        "colab": {
          "base_uri": "https://localhost:8080/"
        },
        "id": "tRzf3qLbRkqV",
        "outputId": "afdb37eb-7ffd-47a3-e5a4-d1a43262a8fc"
      },
      "execution_count": null,
      "outputs": [
        {
          "output_type": "execute_result",
          "data": {
            "text/plain": [
              "<tf.Tensor: shape=(1, 1, 1, 1, 50), dtype=float32, numpy=\n",
              "array([[[[[4.4164279e-01, 1.9448698e-01, 1.2452606e-01, 2.1574403e-01,\n",
              "           1.1330233e-03, 4.6877623e-01, 5.4777384e-01, 7.6115942e-01,\n",
              "           5.1223613e-02, 4.9816839e-02, 9.6340768e-02, 5.2176905e-01,\n",
              "           1.7738823e-02, 3.0037400e-01, 3.3017528e-01, 8.0943036e-01,\n",
              "           8.9561006e-05, 2.7168143e-01, 4.0264672e-01, 3.9731771e-02,\n",
              "           5.3205711e-01, 2.9793534e-01, 1.1570342e-02, 4.5793110e-01,\n",
              "           4.3596479e-01, 1.1353558e-01, 3.6170322e-01, 4.4363216e-02,\n",
              "           7.2716069e-01, 1.9414751e-01, 8.9970458e-01, 5.6418572e-02,\n",
              "           6.5900785e-01, 2.7703318e-01, 2.4434039e-01, 4.6711516e-02,\n",
              "           7.1524179e-01, 7.6018190e-01, 9.5102049e-02, 4.7169948e-01,\n",
              "           5.6472950e-02, 6.1109054e-01, 9.3535668e-01, 4.7199135e-03,\n",
              "           6.3798469e-01, 4.3597910e-01, 3.4474665e-01, 2.7098738e-02,\n",
              "           5.4479504e-01, 1.0274617e-01]]]]], dtype=float32)>"
            ]
          },
          "metadata": {},
          "execution_count": 98
        }
      ]
    },
    {
      "cell_type": "code",
      "source": [
        "tf.math.sqrt(g)"
      ],
      "metadata": {
        "colab": {
          "base_uri": "https://localhost:8080/"
        },
        "id": "BGPxNisIRx47",
        "outputId": "d9bce7fb-51a6-4e78-f84f-677ca9add6ee"
      },
      "execution_count": null,
      "outputs": [
        {
          "output_type": "execute_result",
          "data": {
            "text/plain": [
              "<tf.Tensor: shape=(1, 1, 1, 1, 50), dtype=float32, numpy=\n",
              "array([[[[[0.81520677, 0.6640834 , 0.59403914, 0.6815296 , 0.18346775,\n",
              "           0.8274493 , 0.8603008 , 0.9340474 , 0.4757377 , 0.47243714,\n",
              "           0.55712485, 0.8499034 , 0.36494818, 0.74031335, 0.7580296 ,\n",
              "           0.9485165 , 0.09728138, 0.7219631 , 0.796583  , 0.44646198,\n",
              "           0.8540623 , 0.7388062 , 0.32797185, 0.82262146, 0.81257385,\n",
              "           0.5804743 , 0.7755112 , 0.45893982, 0.9234377 , 0.66379344,\n",
              "           0.9739238 , 0.48736632, 0.90099555, 0.72549254, 0.7030704 ,\n",
              "           0.4648962 , 0.91963017, 0.93374735, 0.5553253 , 0.8287363 ,\n",
              "           0.4874837 , 0.88415086, 0.98343194, 0.26210994, 0.89372224,\n",
              "           0.8125805 , 0.766258  , 0.40573013, 0.85912883, 0.5661629 ]]]]],\n",
              "      dtype=float32)>"
            ]
          },
          "metadata": {},
          "execution_count": 99
        }
      ]
    },
    {
      "cell_type": "code",
      "source": [
        "tf.math.log(g)"
      ],
      "metadata": {
        "colab": {
          "base_uri": "https://localhost:8080/"
        },
        "id": "RHN6I7w3R0X2",
        "outputId": "5cd1bdbd-cd39-453c-ee97-18d34f926d5a"
      },
      "execution_count": null,
      "outputs": [
        {
          "output_type": "execute_result",
          "data": {
            "text/plain": [
              "<tf.Tensor: shape=(1, 1, 1, 1, 50), dtype=float32, numpy=\n",
              "array([[[[[-0.40862694, -0.818695  , -1.0416201 , -0.7668313 ,\n",
              "           -3.3914328 , -0.37881485, -0.3009464 , -0.13645622,\n",
              "           -1.4857774 , -1.4997011 , -1.1699319 , -0.32526514,\n",
              "           -2.0159998 , -0.6013634 , -0.5540658 , -0.10571226,\n",
              "           -4.6602955 , -0.6515625 , -0.45484787, -1.612802  ,\n",
              "           -0.31550223, -0.60543936, -2.229655  , -0.39051828,\n",
              "           -0.4150969 , -1.0878195 , -0.50846565, -1.5576724 ,\n",
              "           -0.15930387, -0.8195685 , -0.05284442, -1.4374784 ,\n",
              "           -0.20850994, -0.641809  , -0.70459646, -1.5318823 ,\n",
              "           -0.16756731, -0.13709876, -1.1764023 , -0.37570658,\n",
              "           -1.4369967 , -0.2462551 , -0.03341366, -2.6779823 ,\n",
              "           -0.22472048, -0.41508046, -0.5324727 , -1.8041341 ,\n",
              "           -0.30367282, -1.1377468 ]]]]], dtype=float32)>"
            ]
          },
          "metadata": {},
          "execution_count": 101
        }
      ]
    },
    {
      "cell_type": "code",
      "source": [
        "tf.math.exp(g)"
      ],
      "metadata": {
        "colab": {
          "base_uri": "https://localhost:8080/"
        },
        "id": "2ZNRPf5tR30V",
        "outputId": "4711b6ad-106a-48f1-9efe-b1ce019c0031"
      },
      "execution_count": null,
      "outputs": [
        {
          "output_type": "execute_result",
          "data": {
            "text/plain": [
              "<tf.Tensor: shape=(1, 1, 1, 1, 50), dtype=float32, numpy=\n",
              "array([[[[[1.9436393, 1.5542712, 1.4231639, 1.5911906, 1.0342333,\n",
              "           1.983122 , 2.0961816, 2.392753 , 1.2539848, 1.2500666,\n",
              "           1.3639543, 2.0592375, 1.1424638, 1.7299005, 1.7764355,\n",
              "           2.4588246, 1.0095086, 1.684099 , 1.8861628, 1.2205826,\n",
              "           2.0738826, 1.7260482, 1.1135638, 1.9673866, 1.9353269,\n",
              "           1.4006696, 1.8247038, 1.2344503, 2.3460596, 1.5536729,\n",
              "           2.5819051, 1.2681079, 2.251942 , 1.6927246, 1.6393634,\n",
              "           1.2412618, 2.3296537, 2.3914123, 1.3612266, 1.9873534,\n",
              "           1.268253 , 2.1852336, 2.6304066, 1.0711166, 2.2227373,\n",
              "           1.9353479, 1.7988567, 1.1789414, 2.0919619, 1.3778722]]]]],\n",
              "      dtype=float32)>"
            ]
          },
          "metadata": {},
          "execution_count": 102
        }
      ]
    },
    {
      "cell_type": "code",
      "source": [
        "# converting tensor to numpy is\n",
        "np.array(g)"
      ],
      "metadata": {
        "colab": {
          "base_uri": "https://localhost:8080/"
        },
        "id": "P_3osvzGR8Lr",
        "outputId": "042469e9-dfe3-41c6-878a-d20ed7455019"
      },
      "execution_count": null,
      "outputs": [
        {
          "output_type": "execute_result",
          "data": {
            "text/plain": [
              "array([[[[[0.6645621 , 0.44100678, 0.3528825 , 0.46448255, 0.03366041,\n",
              "           0.68467236, 0.74011743, 0.8724445 , 0.22632635, 0.22319686,\n",
              "           0.3103881 , 0.7223358 , 0.13318717, 0.5480639 , 0.5746088 ,\n",
              "           0.8996835 , 0.00946367, 0.5212307 , 0.6345445 , 0.1993283 ,\n",
              "           0.72942245, 0.54583454, 0.10756552, 0.6767061 , 0.6602763 ,\n",
              "           0.33695042, 0.60141766, 0.21062577, 0.8527372 , 0.44062173,\n",
              "           0.9485276 , 0.23752594, 0.81179297, 0.5263394 , 0.494308  ,\n",
              "           0.21612847, 0.8457197 , 0.8718841 , 0.3083862 , 0.6868038 ,\n",
              "           0.23764038, 0.7817228 , 0.9671384 , 0.06870162, 0.79873943,\n",
              "           0.66028714, 0.5871513 , 0.16461694, 0.7381023 , 0.32054043]]]]],\n",
              "      dtype=float32)"
            ]
          },
          "metadata": {},
          "execution_count": 104
        }
      ]
    },
    {
      "cell_type": "code",
      "source": [
        "tf.config.list_physical_devices(\"CPU\")"
      ],
      "metadata": {
        "colab": {
          "base_uri": "https://localhost:8080/"
        },
        "id": "r-SYOTzWSHdU",
        "outputId": "36fd64dd-06bb-4903-a4c3-c8ed47aa5868"
      },
      "execution_count": null,
      "outputs": [
        {
          "output_type": "execute_result",
          "data": {
            "text/plain": [
              "[PhysicalDevice(name='/physical_device:CPU:0', device_type='CPU')]"
            ]
          },
          "metadata": {},
          "execution_count": 106
        }
      ]
    },
    {
      "cell_type": "code",
      "source": [
        "!nvidia-smi"
      ],
      "metadata": {
        "colab": {
          "base_uri": "https://localhost:8080/"
        },
        "id": "OT5B0cSdSafd",
        "outputId": "1688c232-45fe-4420-c1d5-a12bc0085d05"
      },
      "execution_count": null,
      "outputs": [
        {
          "output_type": "stream",
          "name": "stdout",
          "text": [
            "/bin/bash: line 1: nvidia-smi: command not found\n"
          ]
        }
      ]
    },
    {
      "cell_type": "code",
      "source": [],
      "metadata": {
        "id": "kfdxP2xWSkpd"
      },
      "execution_count": null,
      "outputs": []
    }
  ]
}